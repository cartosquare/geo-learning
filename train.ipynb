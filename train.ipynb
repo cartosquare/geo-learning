{
 "cells": [
  {
   "cell_type": "code",
   "execution_count": 4,
   "metadata": {
    "collapsed": false
   },
   "outputs": [],
   "source": [
    "require 'torch'\n",
    "require 'nn'"
   ]
  },
  {
   "cell_type": "markdown",
   "metadata": {},
   "source": [
    "# Prepare trainset"
   ]
  },
  {
   "cell_type": "code",
   "execution_count": 116,
   "metadata": {
    "collapsed": false
   },
   "outputs": [],
   "source": [
    "trainset = torch.load('data/train.t7')\n",
    "testset = torch.load('data/test.t7')"
   ]
  },
  {
   "cell_type": "code",
   "execution_count": 117,
   "metadata": {
    "collapsed": false
   },
   "outputs": [
    {
     "data": {
      "text/plain": [
       "274\t\n"
      ]
     },
     "execution_count": 117,
     "metadata": {},
     "output_type": "execute_result"
    }
   ],
   "source": [
    "print(trainset.label:size()[1])"
   ]
  },
  {
   "cell_type": "code",
   "execution_count": 118,
   "metadata": {
    "collapsed": false
   },
   "outputs": [
    {
     "data": {
      "text/plain": [
       "{\n",
       "  1 : DoubleTensor - size: 1\n",
       "  2 : DoubleTensor - size: 1\n",
       "  3 : DoubleTensor - size: 1\n",
       "  4 : DoubleTensor - size: 1\n",
       "  5 : DoubleTensor - size: 1\n",
       "  6 : DoubleTensor - size: 1\n",
       "  7 : DoubleTensor - size: 1\n",
       "  8 : DoubleTensor - size: 1\n",
       "  9 : DoubleTensor - size: 1\n",
       "  10 : DoubleTensor - size: 1\n",
       "  11 : DoubleTensor - size: 1\n",
       "  12 : DoubleTensor - size: 1\n",
       "  13 : DoubleTensor - size: 1\n",
       "  14 : DoubleTensor - size: 1\n",
       "  15 : DoubleTensor - size: 1\n",
       "  16 : DoubleTensor - size: 1\n",
       "  17 : DoubleTensor - size: 1\n",
       "  18 : DoubleTensor - size: 1\n",
       "  19 : DoubleTensor - size: 1\n",
       "  20 : DoubleTensor - size: 1\n",
       "  21 : DoubleTensor - size: 1\n",
       "  22 : DoubleTensor - size: 1\n",
       "  23 : DoubleTensor - size: 1\n",
       "  24 : DoubleTensor - size: 1\n",
       "  25 : DoubleTensor - size: 1\n",
       "  26 : DoubleTensor - size: 1\n",
       "  27 : DoubleTensor - size: 1\n",
       "  28 : DoubleTensor - size: 1\n",
       "  29 : DoubleTensor - size: 1\n"
      ]
     },
     "execution_count": 118,
     "metadata": {},
     "output_type": "execute_result"
    },
    {
     "data": {
      "text/plain": [
       "  30 : DoubleTensor - size: 1\n",
       "  31 : DoubleTensor - size: 1\n",
       "  32 : DoubleTensor - size: 1\n",
       "  33 : DoubleTensor - size: 1\n",
       "  34 : DoubleTensor - size: 1\n",
       "  35 : DoubleTensor - size: 1\n",
       "  36 : DoubleTensor - size: 1\n",
       "  37 : DoubleTensor - size: 1\n",
       "  38 : DoubleTensor - size: 1\n",
       "  39 : DoubleTensor - size: 1\n",
       "  40 : DoubleTensor - size: 1\n",
       "  41 : DoubleTensor - size: 1\n",
       "  42 : DoubleTensor - size: 1\n",
       "  43 : DoubleTensor - size: 1\n",
       "  44 : DoubleTensor - size: 1\n",
       "  45 : DoubleTensor - size: 1\n",
       "  46 : DoubleTensor - size: 1\n",
       "  47 : DoubleTensor - size: 1\n",
       "  48 : DoubleTensor - size: 1\n",
       "  49 : DoubleTensor - size: 1\n",
       "  50 : DoubleTensor - size: 1\n",
       "  51 : DoubleTensor - size: 1\n",
       "  52 : DoubleTensor - size: 1\n",
       "  53 : DoubleTensor - size: 1\n",
       "  54 : DoubleTensor - size: 1\n",
       "  55 : DoubleTensor - size: 1\n",
       "  56 : DoubleTensor - size: 1\n",
       "  57 : DoubleTensor - size: 1\n",
       "  58 : DoubleTensor - size: 1\n",
       "  59 : DoubleTensor - size: 1\n",
       "  60 : DoubleTensor - size: 1\n",
       "  61 : DoubleTensor - size: 1\n",
       "  62 : DoubleTensor - size: 1\n",
       "  63 : DoubleTensor - size: 1\n",
       "  64 : DoubleTensor - size: 1\n",
       "  65 : DoubleTensor - size: 1\n",
       "  66 : DoubleTensor - size: 1\n",
       "  67 : DoubleTensor - size: 1\n",
       "  68 : DoubleTensor - size: 1\n",
       "  69 : DoubleTensor - size: 1\n",
       "  70 : DoubleTensor - size: 1\n",
       "  71 : DoubleTensor - size: 1\n",
       "  72 : DoubleTensor - size: 1\n",
       "  73 : DoubleTensor - size: 1\n",
       "  74 : DoubleTensor - size: 1\n",
       "  75 : DoubleTensor - size: 1\n",
       "  76 : DoubleTensor - size: 1\n",
       "  77 : DoubleTensor - size: 1\n",
       "  78 : DoubleTensor - size: 1\n",
       "  79 : DoubleTensor - size: 1\n",
       "  80 : DoubleTensor - size: 1\n",
       "  81 : DoubleTensor - size: 1\n",
       "  82 : DoubleTensor - size: 1\n",
       "  83 : DoubleTensor - size: 1\n",
       "  84 : DoubleTensor - size: 1\n",
       "  85 : DoubleTensor - size: 1\n",
       "  86 : DoubleTensor - size: 1\n",
       "  87 : DoubleTensor - size: 1\n",
       "  88 : DoubleTensor - size: 1\n",
       "  89 : DoubleTensor - size: 1\n",
       "  90 : DoubleTensor - size: 1\n",
       "  91 : DoubleTensor - size: 1\n",
       "  92 : DoubleTensor - size: 1\n",
       "  93 : DoubleTensor - size: 1\n",
       "  94 : DoubleTensor - size: 1\n",
       "  95 : DoubleTensor - size: 1\n",
       "  96 : DoubleTensor - size: 1\n",
       "  97 : DoubleTensor - size: 1\n",
       "  98 : DoubleTensor - size: 1\n",
       "  99 : DoubleTensor - size: 1\n",
       "  100 : DoubleTensor - size: 1\n",
       "  101 : DoubleTensor - size: 1\n",
       "  102 : DoubleTensor - size: 1\n",
       "  103 : DoubleTensor - size: 1\n",
       "  104 : DoubleTensor - size: 1\n",
       "  105 : DoubleTensor - size: 1\n",
       "  106 : DoubleTensor - size: 1\n",
       "  107 : DoubleTensor - size: 1\n",
       "  108 : DoubleTensor - size: 1\n",
       "  109 : DoubleTensor - size: 1\n",
       "  110 : DoubleTensor - size: 1\n",
       "  111 : DoubleTensor - size: 1\n",
       "  112 : DoubleTensor - size: 1\n",
       "  113 : DoubleTensor - size: 1\n",
       "  114 : DoubleTensor - size: 1\n",
       "  115 : DoubleTensor - size: 1\n",
       "  116 : DoubleTensor - size: 1\n",
       "  117 : DoubleTensor - size: 1\n",
       "  118 : DoubleTensor - size: 1\n",
       "  119 : DoubleTensor - size: 1\n",
       "  120 : DoubleTensor - size: 1\n",
       "  121 : DoubleTensor - size: 1\n",
       "  122 : DoubleTensor - size: 1\n",
       "  123 : DoubleTensor - size: 1\n",
       "  124 : DoubleTensor - size: 1\n",
       "  125 : DoubleTensor - size: 1\n",
       "  126 : DoubleTensor - size: 1\n",
       "  127 : DoubleTensor - size: 1\n",
       "  128 : DoubleTensor - size: 1\n",
       "  129 : DoubleTensor - size: 1\n",
       "  130 : DoubleTensor - size: 1\n",
       "  131 : DoubleTensor - size: 1\n",
       "  132 : DoubleTensor - size: 1\n",
       "  133 : DoubleTensor - size: 1\n",
       "  134 : DoubleTensor - size: 1\n",
       "  135 : DoubleTensor - size: 1\n",
       "  136 : DoubleTensor - size: 1\n",
       "  137 : DoubleTensor - size: 1\n",
       "  138 : DoubleTensor - size: 1\n",
       "  139 : DoubleTensor - size: 1\n",
       "  140 : DoubleTensor - size: 1\n",
       "  141 : DoubleTensor - size: 1\n",
       "  142 : DoubleTensor - size: 1\n",
       "  143 : DoubleTensor - size: 1\n",
       "  144 : DoubleTensor - size: 1\n",
       "  145 : DoubleTensor - size: 1\n",
       "  146 : DoubleTensor - size: 1\n",
       "  147 : DoubleTensor - size: 1\n",
       "  148 : DoubleTensor - size: 1\n",
       "  149 : DoubleTensor - size: 1\n",
       "  150 : DoubleTensor - size: 1\n",
       "  151 : DoubleTensor - size: 1\n",
       "  152 : DoubleTensor - size: 1\n",
       "  153 : DoubleTensor - size: 1\n",
       "  154 : DoubleTensor - size: 1\n",
       "  155 : DoubleTensor - size: 1\n",
       "  156 : DoubleTensor - size: 1\n",
       "  157 : DoubleTensor - size: 1\n",
       "  158 : DoubleTensor - size: 1\n",
       "  159 : DoubleTensor - size: 1\n",
       "  160 : DoubleTensor - size: 1\n",
       "  161 : DoubleTensor - size: 1\n",
       "  162 : DoubleTensor - size: 1\n",
       "  163 : DoubleTensor - size: 1\n",
       "  164 : Doub"
      ]
     },
     "execution_count": 118,
     "metadata": {},
     "output_type": "execute_result"
    },
    {
     "data": {
      "text/plain": [
       "leTensor - size: 1\n",
       "  165 : DoubleTensor - size: 1\n",
       "  166 : DoubleTensor - size: 1\n",
       "  167 : DoubleTensor - size: 1\n",
       "  168 : DoubleTensor - size: 1\n",
       "  169 : DoubleTensor - size: 1\n",
       "  170 : DoubleTensor - size: 1\n",
       "  171 : DoubleTensor - size: 1\n",
       "  172 : DoubleTensor - size: 1\n",
       "  173 : DoubleTensor - size: 1\n",
       "  174 : DoubleTensor - size: 1\n",
       "  175 : DoubleTensor - size: 1\n",
       "  176 : DoubleTensor - size: 1\n",
       "  177 : DoubleTensor - size: 1\n",
       "  178 : DoubleTensor - size: 1\n",
       "  179 : DoubleTensor - size: 1\n",
       "  180 : DoubleTensor - size: 1\n",
       "  181 : DoubleTensor - size: 1\n",
       "  182 : DoubleTensor - size: 1\n",
       "  183 : DoubleTensor - size: 1\n",
       "  184 : DoubleTensor - size: 1\n",
       "  185 : DoubleTensor - size: 1\n",
       "  186 : DoubleTensor - size: 1\n",
       "  187 : DoubleTensor - size: 1\n",
       "  188 : DoubleTensor - size: 1\n",
       "  189 : DoubleTensor - size: 1\n",
       "  190 : DoubleTensor - size: 1\n",
       "  191 : DoubleTensor - size: 1\n",
       "  192 : DoubleTensor - size: 1\n",
       "  193 : DoubleTensor - size: 1\n",
       "  194 : DoubleTensor - size: 1\n",
       "  195 : DoubleTensor - size: 1\n",
       "  196 : DoubleTensor - size: 1\n",
       "  197 : DoubleTensor - size: 1\n",
       "  198 : DoubleTensor - size: 1\n",
       "  199 : DoubleTensor - size: 1\n",
       "  200 : DoubleTensor - size: 1\n",
       "  201 : DoubleTensor - size: 1\n",
       "  202 : DoubleTensor - size: 1\n",
       "  203 : DoubleTensor - size: 1\n",
       "  204 : DoubleTensor - size: 1\n",
       "  205 : DoubleTensor - size: 1\n",
       "  206 : DoubleTensor - size: 1\n",
       "  207 : DoubleTensor - size: 1\n",
       "  208 : DoubleTensor - size: 1\n",
       "  209 : DoubleTensor - size: 1\n",
       "  210 : DoubleTensor - size: 1\n",
       "  211 : DoubleTensor - size: 1\n",
       "  212 : DoubleTensor - size: 1\n",
       "  213 : DoubleTensor - size: 1\n",
       "  214 : DoubleTensor - size: 1\n",
       "  215 : DoubleTensor - size: 1\n",
       "  216 : DoubleTensor - size: 1\n",
       "  217 : DoubleTensor - size: 1\n",
       "  218 : DoubleTensor - size: 1\n",
       "  219 : DoubleTensor - size: 1\n",
       "  220 : DoubleTensor - size: 1\n",
       "  221 : DoubleTensor - size: 1\n",
       "  222 : DoubleTensor - size: 1\n",
       "  223 : DoubleTensor - size: 1\n",
       "  224 : DoubleTensor - size: 1\n",
       "  225 : DoubleTensor - size: 1\n",
       "  226 : DoubleTensor - size: 1\n",
       "  227 : DoubleTensor - size: 1\n",
       "  228 : DoubleTensor - size: 1\n",
       "  229 : DoubleTensor - size: 1\n",
       "  230 : DoubleTensor - size: 1\n",
       "  231 : DoubleTensor - size: 1\n",
       "  232 : DoubleTensor - size: 1\n",
       "  233 : DoubleTensor - size: 1\n",
       "  234 : DoubleTensor - size: 1\n",
       "  235 : DoubleTensor - size: 1\n",
       "  236 : DoubleTensor - size: 1\n",
       "  237 : DoubleTensor - size: 1\n",
       "  238 : DoubleTensor - size: 1\n",
       "  239 : DoubleTensor - size: 1\n",
       "  240 : DoubleTensor - size: 1\n",
       "  241 : DoubleTensor - size: 1\n",
       "  242 : DoubleTensor - size: 1\n",
       "  243 : DoubleTensor - size: 1\n",
       "  244 : DoubleTensor - size: 1\n",
       "  245 : DoubleTensor - size: 1\n",
       "  246 : DoubleTensor - size: 1\n",
       "  247 : DoubleTensor - size: 1\n",
       "  248 : DoubleTensor - size: 1\n",
       "  249 : DoubleTensor - size: 1\n",
       "  250 : DoubleTensor - size: 1\n",
       "  251 : DoubleTensor - size: 1\n",
       "  252 : DoubleTensor - size: 1\n",
       "  253 : DoubleTensor - size: 1\n",
       "  254 : DoubleTensor - size: 1\n",
       "  255 : DoubleTensor - size: 1\n",
       "  256 : DoubleTensor - size: 1\n",
       "  257 : DoubleTensor - size: 1\n",
       "  258 : DoubleTensor - size: 1\n",
       "  259 : DoubleTensor - size: 1\n",
       "  260 : DoubleTensor - size: 1\n",
       "  261 : DoubleTensor - size: 1\n",
       "  262 : DoubleTensor - size: 1\n",
       "  263 : DoubleTensor - size: 1\n",
       "  264 : DoubleTensor - size: 1\n",
       "  265 : DoubleTensor - size: 1\n",
       "  266 : DoubleTensor - size: 1\n",
       "  267 : DoubleTensor - size: 1\n",
       "  268 : DoubleTensor - size: 1\n",
       "  269 : DoubleTensor - size: 1\n",
       "  270 : DoubleTensor - size: 1\n",
       "  271 : DoubleTensor - size: 1\n",
       "  272 : DoubleTensor - size: 1\n",
       "  273 : DoubleTensor - size: 1\n",
       "  274 : DoubleTensor - size: 1\n",
       "}\n"
      ]
     },
     "execution_count": 118,
     "metadata": {},
     "output_type": "execute_result"
    }
   ],
   "source": [
    "labels = {}\n",
    "for k = 1, trainset.label:size()[1] do\n",
    "    target = torch.Tensor(1)\n",
    "    target[1] = trainset.label[k]\n",
    "    labels[k] = target\n",
    "end\n",
    "\n",
    "trainset.label = labels\n",
    "print(trainset.label)"
   ]
  },
  {
   "cell_type": "code",
   "execution_count": 119,
   "metadata": {
    "collapsed": false
   },
   "outputs": [
    {
     "data": {
      "text/plain": [
       " 1\n",
       "[torch.DoubleTensor of size 1]\n",
       "\n",
       " 10\n",
       "[torch.DoubleTensor of size 1]\n",
       "\n"
      ]
     },
     "execution_count": 119,
     "metadata": {},
     "output_type": "execute_result"
    }
   ],
   "source": [
    "print(trainset.label[10])\n",
    "t = torch.Tensor(1)\n",
    "t[1] = 10\n",
    "print(t)"
   ]
  },
  {
   "cell_type": "code",
   "execution_count": 120,
   "metadata": {
    "collapsed": false
   },
   "outputs": [
    {
     "data": {
      "text/plain": [
       "{\n",
       "  data : DoubleTensor - size: 274x2x25x25\n",
       "  label : \n",
       "    {\n",
       "      1 : DoubleTensor - size: 1\n",
       "      2 : DoubleTensor - size: 1\n",
       "      3 : DoubleTensor - size: 1\n",
       "      4 : DoubleTensor - size: 1\n",
       "      5 : DoubleTensor - size: 1\n",
       "      6 : DoubleTensor - size: 1\n",
       "      7 : DoubleTensor - size: 1\n",
       "      8 : DoubleTensor - size: 1\n",
       "      9 : DoubleTensor - size: 1\n",
       "      10 : DoubleTensor - size: 1\n",
       "      11 : DoubleTensor - size: 1\n",
       "      12 : DoubleTensor - size: 1\n",
       "      13 : DoubleTensor - size: 1\n",
       "      14 : DoubleTensor - size: 1\n",
       "      15 : DoubleTensor - size: 1\n",
       "      16 : DoubleTensor - size: 1\n",
       "      17 : DoubleTensor - size: 1\n",
       "      18 : DoubleTensor - size: 1\n",
       "      19 : DoubleTensor - size: 1\n",
       "      20 : DoubleTensor - size: 1\n",
       "      21 : DoubleTensor - size: 1\n",
       "      22 : DoubleTensor - size: 1\n",
       "      23 : DoubleTensor - size: 1\n",
       "      24 : DoubleTensor - size: 1\n",
       "      25 : DoubleTensor - size: 1\n",
       "      26 : DoubleTensor - size: 1\n",
       "      27 : DoubleTensor - size: 1\n",
       "      28 : DoubleTensor - size: 1\n",
       "      29 : DoubleTensor - size: 1\n",
       "      30 : DoubleTensor - size: 1\n",
       "      31 : DoubleTensor - size: 1\n",
       "      32 : DoubleTensor - size: 1\n",
       "      33 : DoubleTensor - size: 1\n",
       "      34 : DoubleTensor - size: 1\n",
       "      35 : DoubleTensor - size: 1\n",
       "      36 : DoubleTensor - size: 1\n",
       "      37 : DoubleTensor - size: 1\n",
       "      38 : DoubleTensor - size: 1\n",
       "      39 : DoubleTensor - size: 1\n",
       "      40 : DoubleTensor - size: 1\n",
       "      41 : DoubleTensor - size: 1\n",
       "      42 : DoubleTensor - size: 1\n",
       "      43 : DoubleTensor - size: 1\n",
       "      44 : DoubleTensor - size: 1\n",
       "      45 : DoubleTensor - size: 1\n",
       "      46 : DoubleTensor - size: 1\n",
       "      47 : DoubleTensor - size: 1\n",
       "      48 : DoubleTensor - size: 1\n",
       "      49 : DoubleTensor - size: 1\n",
       "      50 : DoubleTensor - size: 1\n",
       "      51 : DoubleTensor - size: 1\n",
       "      52 : DoubleTensor - size: 1\n",
       "      53 : DoubleTensor - size: 1\n",
       "      54 : DoubleTensor - size: 1\n",
       "      55 : DoubleTensor - size: 1\n",
       "      56 : DoubleTensor - size: 1\n",
       "      57 : DoubleTensor - size: 1\n",
       "      58 : DoubleTensor - size: 1\n",
       "      59 : DoubleTensor - size: 1\n",
       "      60 : DoubleTensor - size: 1\n",
       "      61 : DoubleTensor - size: 1\n",
       "      62 : DoubleTensor - size: 1\n",
       "      63 : DoubleTensor - size: 1\n",
       "      64 : DoubleTensor - size: 1\n",
       "      65 : DoubleTensor - size: 1\n",
       "      66 : DoubleTensor - size: 1\n",
       "      67 : DoubleTensor - size: 1\n",
       "      68 : DoubleTensor - size: 1\n",
       "      69 : DoubleTensor - size: 1\n",
       "      70 : DoubleTensor - size: 1\n",
       "      71 : DoubleTensor - size: 1\n",
       "     "
      ]
     },
     "execution_count": 120,
     "metadata": {},
     "output_type": "execute_result"
    },
    {
     "data": {
      "text/plain": [
       " 72 : DoubleTensor - size: 1\n",
       "      73 : DoubleTensor - size: 1\n",
       "      74 : DoubleTensor - size: 1\n",
       "      75 : DoubleTensor - size: 1\n",
       "      76 : DoubleTensor - size: 1\n",
       "      77 : DoubleTensor - size: 1\n",
       "      78 : DoubleTensor - size: 1\n",
       "      79 : DoubleTensor - size: 1\n",
       "      80 : DoubleTensor - size: 1\n",
       "      81 : DoubleTensor - size: 1\n",
       "      82 : DoubleTensor - size: 1\n",
       "      83 : DoubleTensor - size: 1\n",
       "      84 : DoubleTensor - size: 1\n",
       "      85 : DoubleTensor - size: 1\n",
       "      86 : DoubleTensor - size: 1\n",
       "      87 : DoubleTensor - size: 1\n",
       "      88 : DoubleTensor - size: 1\n",
       "      89 : DoubleTensor - size: 1\n",
       "      90 : DoubleTensor - size: 1\n",
       "      91 : DoubleTensor - size: 1\n",
       "      92 : DoubleTensor - size: 1\n",
       "      93 : DoubleTensor - size: 1\n",
       "      94 : DoubleTensor - size: 1\n",
       "      95 : DoubleTensor - size: 1\n",
       "      96 : DoubleTensor - size: 1\n",
       "      97 : DoubleTensor - size: 1\n",
       "      98 : DoubleTensor - size: 1\n",
       "      99 : DoubleTensor - size: 1\n",
       "      100 : DoubleTensor - size: 1\n",
       "      101 : DoubleTensor - size: 1\n",
       "      102 : DoubleTensor - size: 1\n",
       "      103 : DoubleTensor - size: 1\n",
       "      104 : DoubleTensor - size: 1\n",
       "      105 : DoubleTensor - size: 1\n",
       "      106 : DoubleTensor - size: 1\n",
       "      107 : DoubleTensor - size: 1\n",
       "      108 : DoubleTensor - size: 1\n",
       "      109 : DoubleTensor - size: 1\n",
       "      110 : DoubleTensor - size: 1\n",
       "      111 : DoubleTensor - size: 1\n",
       "      112 : DoubleTensor - size: 1\n",
       "      113 : DoubleTensor - size: 1\n",
       "      114 : DoubleTensor - size: 1\n",
       "      115 : DoubleTensor - size: 1\n",
       "      116 : DoubleTensor - size: 1\n",
       "      117 : DoubleTensor - size: 1\n",
       "      118 : DoubleTensor - size: 1\n",
       "      119 : DoubleTensor - size: 1\n",
       "      120 : DoubleTensor - size: 1\n",
       "      121 : DoubleTensor - size: 1\n",
       "      122 : DoubleTensor - size: 1\n",
       "      123 : DoubleTensor - size: 1\n",
       "      124 : DoubleTensor - size: 1\n",
       "      125 : DoubleTensor - size: 1\n",
       "      126 : DoubleTensor - size: 1\n",
       "      127 : DoubleTensor - size: 1\n",
       "      128 : DoubleTensor - size: 1\n",
       "      129 : DoubleTensor - size: 1\n",
       "      130 : DoubleTensor - size: 1\n",
       "      131 : DoubleTensor - size: 1\n",
       "      132 : DoubleTensor - size: 1\n",
       "      133 : DoubleTensor - size: 1\n",
       "      134 : DoubleTensor - size: 1\n",
       "      135 : DoubleTensor - size: 1\n",
       "      136 : DoubleTensor - size: 1\n",
       "      137 : DoubleTensor - size: 1\n",
       "      138 : DoubleTensor - size: 1\n",
       "      139 : DoubleTensor - size: 1\n",
       "      140 : DoubleTensor - size: 1\n",
       "      141 : DoubleTensor - size: 1\n",
       "      142 : DoubleTensor - size: 1\n",
       "      143 : DoubleTensor - size: 1\n"
      ]
     },
     "execution_count": 120,
     "metadata": {},
     "output_type": "execute_result"
    },
    {
     "data": {
      "text/plain": [
       "      144 : DoubleTensor - size: 1\n",
       "      145 : DoubleTensor - size: 1\n",
       "      146 : DoubleTensor - size: 1\n",
       "      147 : DoubleTensor - size: 1\n",
       "      148 : DoubleTensor - size: 1\n",
       "      149 : DoubleTensor - size: 1\n",
       "      150 : DoubleTensor - size: 1\n",
       "      151 : DoubleTensor - size: 1\n",
       "      152 : DoubleTensor - size: 1\n",
       "      153 : DoubleTensor - size: 1\n",
       "      154 : DoubleTensor - size: 1\n",
       "      155 : DoubleTensor - size: 1\n",
       "      156 : DoubleTensor - size: 1\n",
       "      157 : DoubleTensor - size: 1\n",
       "      158 : DoubleTensor - size: 1\n",
       "      159 : DoubleTensor - size: 1\n",
       "      160 : DoubleTensor - size: 1\n",
       "      161 : DoubleTensor - size: 1\n",
       "      162 : DoubleTensor - size: 1\n",
       "      163 : DoubleTensor - size: 1\n",
       "      164 : DoubleTensor - size: 1\n",
       "      165 : DoubleTensor - size: 1\n",
       "      166 : DoubleTensor - size: 1\n",
       "      167 : DoubleTensor - size: 1\n",
       "      168 : DoubleTensor - size: 1\n",
       "      169 : DoubleTensor - size: 1\n",
       "      170 : DoubleTensor - size: 1\n",
       "      171 : DoubleTensor - size: 1\n",
       "      172 : DoubleTensor - size: 1\n",
       "      173 : DoubleTensor - size: 1\n",
       "      174 : DoubleTensor - size: 1\n",
       "      175 : DoubleTensor - size: 1\n",
       "      176 : DoubleTensor - size: 1\n",
       "      177 : DoubleTensor - size: 1\n",
       "      178 : DoubleTensor - size: 1\n",
       "      179 : DoubleTensor - size: 1\n",
       "      180 : DoubleTensor - size: 1\n",
       "      181 : DoubleTensor - size: 1\n",
       "      182 : DoubleTensor - size: 1\n",
       "      183 : DoubleTensor - size: 1\n",
       "      184 : DoubleTensor - size: 1\n",
       "      185 : DoubleTensor - size: 1\n",
       "      186 : DoubleTensor - size: 1\n",
       "      187 : DoubleTensor - size: 1\n",
       "      188 : DoubleTensor - size: 1\n",
       "      189 : DoubleTensor - size: 1\n",
       "      190 : DoubleTensor - size: 1\n",
       "      191 : DoubleTensor - size: 1\n",
       "      192 : DoubleTensor - size: 1\n",
       "      193 : DoubleTensor - size: 1\n",
       "      194 : DoubleTensor - size: 1\n",
       "      195 : DoubleTensor - size: 1\n",
       "      196 : DoubleTensor - size: 1\n",
       "      197 : DoubleTensor - size: 1\n"
      ]
     },
     "execution_count": 120,
     "metadata": {},
     "output_type": "execute_result"
    },
    {
     "data": {
      "text/plain": [
       "      198 : DoubleTensor - size: 1\n",
       "      199 : DoubleTensor - size: 1\n",
       "      200 : DoubleTensor - size: 1\n",
       "      201 : DoubleTensor - size: 1\n",
       "      202 : DoubleTensor - size: 1\n",
       "      203 : DoubleTensor - size: 1\n",
       "      204 : DoubleTensor - size: 1\n",
       "      205 : DoubleTensor - size: 1\n",
       "      206 : DoubleTensor - size: 1\n",
       "      207 : DoubleTensor - size: 1\n",
       "      208 : DoubleTensor - size: 1\n",
       "      209 : DoubleTensor - size: 1\n",
       "      210 : DoubleTensor - size: 1\n",
       "      211 : DoubleTensor - size: 1\n",
       "      212 : DoubleTensor - size: 1\n",
       "      213 : DoubleTensor - size: 1\n",
       "      214 : DoubleTensor - size: 1\n",
       "      215 : DoubleTensor - size: 1\n",
       "      216 : DoubleTensor - size: 1\n",
       "      217 : DoubleTensor - size: 1\n",
       "      218 : DoubleTensor - size: 1\n",
       "      219 : DoubleTensor - size: 1\n",
       "      220 : DoubleTensor - size: 1\n",
       "      221 : DoubleTensor - size: 1\n",
       "      222 : DoubleTensor - size: 1\n",
       "      223 : DoubleTensor - size: 1\n",
       "      224 : DoubleTensor - size: 1\n",
       "      225 : DoubleTensor - size: 1\n",
       "      226 : DoubleTensor - size: 1\n",
       "      227 : DoubleTensor - size: 1\n",
       "      228 : DoubleTensor - size: 1\n",
       "      229 : DoubleTensor - size: 1\n",
       "      230 : DoubleTensor - size: 1\n",
       "      231 : DoubleTensor - size: 1\n",
       "      232 : DoubleTensor - size: 1\n",
       "      233 : DoubleTensor - size: 1\n",
       "      234 : DoubleTensor - size: 1\n",
       "      235 : DoubleTensor - size: 1\n",
       "      236 : DoubleTensor - size: 1\n",
       "      237 : DoubleTensor - size: 1\n",
       "      238 : DoubleTensor - size: 1\n",
       "      239 : DoubleTensor - size: 1\n",
       "      240 : DoubleTensor - size: 1\n",
       "      241 : DoubleTensor - size: 1\n",
       "      242 : DoubleTensor - size: 1\n",
       "      243 : DoubleTensor - size: 1\n",
       "      244 : DoubleTensor - size: 1\n",
       "      245 : DoubleTensor - size: 1\n",
       "      246 : DoubleTensor - size: 1\n",
       "      247 : DoubleTensor - size: 1\n",
       "      248 : DoubleTensor - size: 1\n",
       "      249 : DoubleTensor - size: 1\n",
       "      250 : DoubleTensor - size: 1\n",
       "      251 : DoubleTensor - size: 1\n",
       "      252 : DoubleTensor - size: 1\n",
       "      253 : DoubleTensor - size: 1\n",
       "      254 : DoubleTensor - size: 1\n",
       "      255 : DoubleTensor - size: 1\n",
       "      256 : DoubleTensor - size: 1\n",
       "      257 : DoubleTensor - size: 1\n",
       "      258 : DoubleTensor - size: 1\n",
       "      259 : DoubleTensor - size: 1\n",
       "      260 : DoubleTensor - size: 1\n",
       "      261 : DoubleTensor - size: 1\n",
       "      262 : DoubleTensor - size: 1\n",
       "      263 : DoubleTensor - size: 1\n",
       "      264 : DoubleTensor - size: 1\n"
      ]
     },
     "execution_count": 120,
     "metadata": {},
     "output_type": "execute_result"
    },
    {
     "data": {
      "text/plain": [
       "      265 : DoubleTensor - size: 1\n",
       "      266 : DoubleTensor - size: 1\n",
       "      267 : DoubleTensor - size: 1\n",
       "      268 : DoubleTensor - size: 1\n",
       "      269 : DoubleTensor - size: 1\n",
       "      270 : DoubleTensor - size: 1\n",
       "      271 : DoubleTensor - size: 1\n",
       "      272 : DoubleTensor - size: 1\n",
       "      273 : DoubleTensor - size: 1\n",
       "      274 : DoubleTensor - size: 1\n",
       "    }\n",
       "}\n"
      ]
     },
     "execution_count": 120,
     "metadata": {},
     "output_type": "execute_result"
    }
   ],
   "source": [
    "print(trainset)"
   ]
  },
  {
   "cell_type": "code",
   "execution_count": 7,
   "metadata": {
    "collapsed": false
   },
   "outputs": [
    {
     "data": {
      "text/plain": [
       "{\n",
       "  data : DoubleTensor - size: 184x2x25x25\n",
       "  label : DoubleTensor - size: 184\n",
       "}\n"
      ]
     },
     "execution_count": 7,
     "metadata": {},
     "output_type": "execute_result"
    }
   ],
   "source": [
    "print(testset)"
   ]
  },
  {
   "cell_type": "markdown",
   "metadata": {},
   "source": [
    "## visualize the training set?"
   ]
  },
  {
   "cell_type": "code",
   "execution_count": 11,
   "metadata": {
    "collapsed": false
   },
   "outputs": [],
   "source": [
    "require 'image'\n",
    "image.saveJPG('test.jpg', trainset.data[100][2])"
   ]
  },
  {
   "cell_type": "code",
   "execution_count": 12,
   "metadata": {
    "collapsed": false
   },
   "outputs": [
    {
     "data": {
      "text/plain": [
       " 0  0  0  0  0  0  0  0  0  0  0  0  0  0  0  0  0  0  0  0  0  0  0  0  0\n",
       " 0  0  0  0  0  0  0  1  0  0  0  0  0  0  0  0  0  0  0  0  0  1  0  0  0\n",
       " 0  0  0  0  0  0  0  1  0  1  0  0  0  0  0  1  0  0  0  0  0  0  0  0  0\n",
       " 0  0  0  0  0  0  0  1  0  0  0  0  0  0  0  0  0  0  1  0  0  0  0  0  0\n",
       " 0  0  0  0  0  0  0  0  2  1  0  0  0  0  0  0  0  0  0  0  0  0  0  0  0\n",
       " 0  0  0  0  0  0  0  0  1  1  0  0  0  0  0  0  0  0  0  1  0  0  0  0  0\n",
       " 0  0  0  0  0  0  0  1  0  0  1  0  0  0  0  0  0  0  0  0  0  0  0  0  0\n",
       " 0  0  0  0  0  0  0  0  0  0  1  1  0  0  0  0  0  0  0  0  0  0  0  0  0\n",
       " 0  0  0  0  0  0  0  0  0  0  1  1  0  0  0  0  0  0  0  0  0  0  0  0  0\n",
       " 0  0  0  0  0  1  0  1  0  0  1  0  0  0  0  2  0  0  1  0  0  0  0  0  0\n",
       " 0  0  0  0  0  0  0  2  0  1  1  0  2  1  0  0  0  0  0  0  0  0  0  0  0\n",
       " 0  0  0  0  2  1  0  0  0  1  0  0  0  0  0  0  0  0  0  0  0  0  0  0  0\n",
       " 0  0  0  3  1  0  1  1  0  1  0  1  1  0  1  0  2  0  2  0  0  0  0  0  0\n",
       " 0  0  1  2  0  0  0  0  0  1  1  1  0  1  1  2  0  0  0  1  2  0  0  0  0\n",
       " 0  1  1  1  0  1  1  0  0  1  1  0  1  0  1  0  1  1  0  2  0  0  0  0  0\n",
       " 0  0  0  0  0  0  0  1  1  0  0  0  1  2  0  0  0  2  0  0  0  0  0  0  0\n",
       " 2  0  1  2  1  0  0  2  0  0  2  0  1  1  0  0  0  0  0  0  0  0  0  0  0\n",
       " 1  0  3  0  0  0  0  0  0  2  1  0  2  0  0  0  0  1  3  0  0  0  0  1  4\n",
       " 0  0  2  0  0  2  1  2  0  1  1  0  0  1  0  0  0  1  0  0  0  0  0  0  0\n",
       " 0  1  0  0  2  1  1  0  2  3  2  1  0  0  1  0  1  1  0  0  0  0  0  0  0\n",
       " 0  1  1  0  2  1  0  0  0  0  0  2  2  0  1  1  0  0  1  0  0  0  0  0  0\n",
       " 0  1  0  2  0  0  0  0  0  0  0  0  0  2  0  1  0  3  1  0  0  0  0  0  0\n",
       " 0  0  1  0  1  0  0  0  0  0  0  0  0  0  1  0  1  0  1  0  1  0  0  0  0\n",
       " 0  0  0  3  1  2  0  0  0  1  0  0  0  0  0  0  1  1  0  0  0  0  0  0  0\n",
       " 1  1  0  0  0  0  0  1  0  1  3  4  0  0  0  1  0  1  0  0  0  0  0  1  0\n",
       "[torch.DoubleTensor of size 25x25]\n",
       "\n"
      ]
     },
     "execution_count": 12,
     "metadata": {},
     "output_type": "execute_result"
    }
   ],
   "source": [
    "print(trainset.data[100][2])"
   ]
  },
  {
   "cell_type": "code",
   "execution_count": 121,
   "metadata": {
    "collapsed": true
   },
   "outputs": [],
   "source": [
    "-- convert trainset as an object\n",
    "setmetatable(trainset, \n",
    "    {__index = function(t, i) \n",
    "                    return {t.data[i], t.label[i]} \n",
    "                end}\n",
    ");\n",
    "\n",
    "trainset.data = trainset.data:double() -- convert the data to a DoubleTensor.\n",
    "\n",
    "function trainset:size() \n",
    "    return self.data:size(1) \n",
    "end"
   ]
  },
  {
   "cell_type": "code",
   "execution_count": 89,
   "metadata": {
    "collapsed": false
   },
   "outputs": [
    {
     "data": {
      "text/plain": [
       "1\t\n"
      ]
     },
     "execution_count": 89,
     "metadata": {},
     "output_type": "execute_result"
    }
   ],
   "source": [
    "print()"
   ]
  },
  {
   "cell_type": "code",
   "execution_count": 122,
   "metadata": {
    "collapsed": false
   },
   "outputs": [
    {
     "data": {
      "text/plain": [
       "274\t\n"
      ]
     },
     "execution_count": 122,
     "metadata": {},
     "output_type": "execute_result"
    }
   ],
   "source": [
    "print(trainset:size()) -- just to test"
   ]
  },
  {
   "cell_type": "code",
   "execution_count": 123,
   "metadata": {
    "collapsed": false
   },
   "outputs": [
    {
     "data": {
      "text/plain": [
       "{\n",
       "  1 : DoubleTensor - size: 2x25x25\n",
       "  2 : DoubleTensor - size: 1\n",
       "}\n"
      ]
     },
     "execution_count": 123,
     "metadata": {},
     "output_type": "execute_result"
    }
   ],
   "source": [
    "print(trainset[33]) -- load sample number 33."
   ]
  },
  {
   "cell_type": "markdown",
   "metadata": {},
   "source": [
    "## make data to have a mean of 0.0 and standard-deviation of 1.0"
   ]
  },
  {
   "cell_type": "code",
   "execution_count": 124,
   "metadata": {
    "collapsed": false
   },
   "outputs": [
    {
     "data": {
      "text/plain": [
       "Channel 1, Mean: 0.034616058394161\t\n",
       "Channel 1, Standard Deviation: 0.2435606350274\t\n"
      ]
     },
     "execution_count": 124,
     "metadata": {},
     "output_type": "execute_result"
    },
    {
     "data": {
      "text/plain": [
       "Channel 2, Mean: 0.25292262773723\t\n"
      ]
     },
     "execution_count": 124,
     "metadata": {},
     "output_type": "execute_result"
    },
    {
     "data": {
      "text/plain": [
       "Channel 2, Standard Deviation: 0.6089959816765\t\n"
      ]
     },
     "execution_count": 124,
     "metadata": {},
     "output_type": "execute_result"
    }
   ],
   "source": [
    "channels = 2\n",
    "mean = {} -- store the mean, to normalize the test set in the future\n",
    "stdv  = {} -- store the standard-deviation for the future\n",
    "for i=1,channels do -- over each image channel\n",
    "    mean[i] = trainset.data[{ {}, {i}, {}, {}  }]:mean() -- mean estimation\n",
    "    print('Channel ' .. i .. ', Mean: ' .. mean[i])\n",
    "    trainset.data[{ {}, {i}, {}, {}  }]:add(-mean[i]) -- mean subtraction\n",
    "    \n",
    "    stdv[i] = trainset.data[{ {}, {i}, {}, {}  }]:std() -- std estimation\n",
    "    print('Channel ' .. i .. ', Standard Deviation: ' .. stdv[i])\n",
    "    trainset.data[{ {}, {i}, {}, {}  }]:div(stdv[i]) -- std scaling\n",
    "end"
   ]
  },
  {
   "cell_type": "code",
   "execution_count": 26,
   "metadata": {
    "collapsed": false
   },
   "outputs": [
    {
     "data": {
      "text/plain": [
       "\n"
      ]
     },
     "execution_count": 26,
     "metadata": {},
     "output_type": "execute_result"
    }
   ],
   "source": [
    "image.saveJPG('test2.jpg', trainset[100][1][2])"
   ]
  },
  {
   "cell_type": "markdown",
   "metadata": {},
   "source": [
    "# Time to define neural network"
   ]
  },
  {
   "cell_type": "code",
   "execution_count": 125,
   "metadata": {
    "collapsed": false
   },
   "outputs": [],
   "source": [
    "net = nn.Sequential()\n",
    "net:add(nn.SpatialConvolution(2, 6, 3, 3)) -- 2 input channels, 6 output channels, 3x3 convolution kernel\n",
    "net:add(nn.ReLU())                         -- non-linearity \n",
    "\n",
    "net:add(nn.View(6*23*23))                    -- reshapes from a 3D tensor of 16x5x5 into 1D tensor of 16*5*5\n",
    "net:add(nn.Linear(6*23*23, 120))             -- fully connected layer (matrix multiplication between input and weights)\n",
    "net:add(nn.ReLU())                         -- non-linearity \n",
    "net:add(nn.Linear(120, 84))\n",
    "net:add(nn.ReLU())                         -- non-linearity \n",
    "net:add(nn.Linear(84, 1))                   -- output size is 1\n",
    "--net:add(nn.LogSoftMax())                     -- converts the output to a log-probability. Useful for classification problems"
   ]
  },
  {
   "cell_type": "code",
   "execution_count": 126,
   "metadata": {
    "collapsed": false
   },
   "outputs": [
    {
     "data": {
      "text/plain": [
       "table\t\n"
      ]
     },
     "execution_count": 126,
     "metadata": {},
     "output_type": "execute_result"
    }
   ],
   "source": [
    "print(type(trainset[100]))"
   ]
  },
  {
   "cell_type": "code",
   "execution_count": 128,
   "metadata": {
    "collapsed": false
   },
   "outputs": [
    {
     "data": {
      "text/plain": [
       "0.01 *\n",
       "-6.0517\n",
       "[torch.DoubleTensor of size 1]\n",
       "\n"
      ]
     },
     "execution_count": 128,
     "metadata": {},
     "output_type": "execute_result"
    }
   ],
   "source": [
    "output = net:forward(trainset[123][1])\n",
    "print(output)"
   ]
  },
  {
   "cell_type": "markdown",
   "metadata": {},
   "source": [
    "# define the loss function, use the Mean Squared Error criterion"
   ]
  },
  {
   "cell_type": "code",
   "execution_count": 129,
   "metadata": {
    "collapsed": true
   },
   "outputs": [],
   "source": [
    "criterion = nn.MSECriterion()"
   ]
  },
  {
   "cell_type": "code",
   "execution_count": 130,
   "metadata": {
    "collapsed": false
   },
   "outputs": [
    {
     "data": {
      "text/plain": [
       "9.366761939509\t\n"
      ]
     },
     "execution_count": 130,
     "metadata": {},
     "output_type": "execute_result"
    }
   ],
   "source": [
    "-- just test criterion\n",
    "groundtruth = torch.Tensor(1)\n",
    "groundtruth[1] = 3 -- lets say the groundth was 3\n",
    "print(criterion:forward(output, groundtruth))"
   ]
  },
  {
   "cell_type": "markdown",
   "metadata": {},
   "source": [
    "# train the neural network"
   ]
  },
  {
   "cell_type": "code",
   "execution_count": 134,
   "metadata": {
    "collapsed": true
   },
   "outputs": [],
   "source": [
    "trainer = nn.StochasticGradient(net, criterion)\n",
    "trainer.learningRate = 0.001\n",
    "trainer.maxIteration = 50 -- do 50 epochs of training."
   ]
  },
  {
   "cell_type": "code",
   "execution_count": 135,
   "metadata": {
    "collapsed": false
   },
   "outputs": [
    {
     "data": {
      "text/plain": [
       "# StochasticGradient: training\t\n"
      ]
     },
     "execution_count": 135,
     "metadata": {},
     "output_type": "execute_result"
    },
    {
     "data": {
      "text/plain": [
       "# current error = 0.26710010372176\t\n"
      ]
     },
     "execution_count": 135,
     "metadata": {},
     "output_type": "execute_result"
    },
    {
     "data": {
      "text/plain": [
       "# current error = 0.19272687358209\t\n"
      ]
     },
     "execution_count": 135,
     "metadata": {},
     "output_type": "execute_result"
    },
    {
     "data": {
      "text/plain": [
       "# current error = 0.14812615913765\t\n"
      ]
     },
     "execution_count": 135,
     "metadata": {},
     "output_type": "execute_result"
    },
    {
     "data": {
      "text/plain": [
       "# current error = 0.11764461330385\t\n"
      ]
     },
     "execution_count": 135,
     "metadata": {},
     "output_type": "execute_result"
    },
    {
     "data": {
      "text/plain": [
       "# current error = 0.096965912303554\t\n"
      ]
     },
     "execution_count": 135,
     "metadata": {},
     "output_type": "execute_result"
    },
    {
     "data": {
      "text/plain": [
       "# current error = 0.081489699831822\t\n"
      ]
     },
     "execution_count": 135,
     "metadata": {},
     "output_type": "execute_result"
    },
    {
     "data": {
      "text/plain": [
       "# current error = 0.069661354158861\t\n"
      ]
     },
     "execution_count": 135,
     "metadata": {},
     "output_type": "execute_result"
    },
    {
     "data": {
      "text/plain": [
       "# current error = 0.059862225985776\t\n"
      ]
     },
     "execution_count": 135,
     "metadata": {},
     "output_type": "execute_result"
    },
    {
     "data": {
      "text/plain": [
       "# current error = 0.051515353791202\t\n"
      ]
     },
     "execution_count": 135,
     "metadata": {},
     "output_type": "execute_result"
    },
    {
     "data": {
      "text/plain": [
       "# current error = 0.043944998130704\t\n"
      ]
     },
     "execution_count": 135,
     "metadata": {},
     "output_type": "execute_result"
    },
    {
     "data": {
      "text/plain": [
       "# current error = 0.037060368663181\t\n"
      ]
     },
     "execution_count": 135,
     "metadata": {},
     "output_type": "execute_result"
    },
    {
     "data": {
      "text/plain": [
       "# current error = 0.03116542833879\t\n"
      ]
     },
     "execution_count": 135,
     "metadata": {},
     "output_type": "execute_result"
    },
    {
     "data": {
      "text/plain": [
       "# current error = 0.025934065875919\t\n"
      ]
     },
     "execution_count": 135,
     "metadata": {},
     "output_type": "execute_result"
    },
    {
     "data": {
      "text/plain": [
       "# current error = 0.021241070458996\t\n"
      ]
     },
     "execution_count": 135,
     "metadata": {},
     "output_type": "execute_result"
    },
    {
     "data": {
      "text/plain": [
       "# current error = 0.017284794440387\t\n"
      ]
     },
     "execution_count": 135,
     "metadata": {},
     "output_type": "execute_result"
    },
    {
     "data": {
      "text/plain": [
       "# current error = 0.013870676543825\t\n"
      ]
     },
     "execution_count": 135,
     "metadata": {},
     "output_type": "execute_result"
    },
    {
     "data": {
      "text/plain": [
       "# current error = 0.011141059377836\t\n"
      ]
     },
     "execution_count": 135,
     "metadata": {},
     "output_type": "execute_result"
    },
    {
     "data": {
      "text/plain": [
       "# current error = 0.0090111375826436\t\n"
      ]
     },
     "execution_count": 135,
     "metadata": {},
     "output_type": "execute_result"
    },
    {
     "data": {
      "text/plain": [
       "# current error = 0.0072355359636463\t\n"
      ]
     },
     "execution_count": 135,
     "metadata": {},
     "output_type": "execute_result"
    },
    {
     "data": {
      "text/plain": [
       "# current error = 0.0059880640155981\t\n"
      ]
     },
     "execution_count": 135,
     "metadata": {},
     "output_type": "execute_result"
    },
    {
     "data": {
      "text/plain": [
       "# current error = 0.0049343462887726\t\n"
      ]
     },
     "execution_count": 135,
     "metadata": {},
     "output_type": "execute_result"
    },
    {
     "data": {
      "text/plain": [
       "# current error = 0.0042243040641327\t\n"
      ]
     },
     "execution_count": 135,
     "metadata": {},
     "output_type": "execute_result"
    },
    {
     "data": {
      "text/plain": [
       "# current error = 0.0035946611921006\t\n"
      ]
     },
     "execution_count": 135,
     "metadata": {},
     "output_type": "execute_result"
    },
    {
     "data": {
      "text/plain": [
       "# current error = 0.0032533887176854\t\n"
      ]
     },
     "execution_count": 135,
     "metadata": {},
     "output_type": "execute_result"
    },
    {
     "data": {
      "text/plain": [
       "# current error = 0.0034085773492698\t\n"
      ]
     },
     "execution_count": 135,
     "metadata": {},
     "output_type": "execute_result"
    },
    {
     "data": {
      "text/plain": [
       "# current error = 0.004358328345385\t\n"
      ]
     },
     "execution_count": 135,
     "metadata": {},
     "output_type": "execute_result"
    },
    {
     "data": {
      "text/plain": [
       "# current error = 0.0081599167914808\t\n"
      ]
     },
     "execution_count": 135,
     "metadata": {},
     "output_type": "execute_result"
    },
    {
     "data": {
      "text/plain": [
       "# current error = 0.015466799560986\t\n"
      ]
     },
     "execution_count": 135,
     "metadata": {},
     "output_type": "execute_result"
    },
    {
     "data": {
      "text/plain": [
       "# current error = 0.02681299626387\t\n"
      ]
     },
     "execution_count": 135,
     "metadata": {},
     "output_type": "execute_result"
    },
    {
     "data": {
      "text/plain": [
       "# current error = 0.03812164652204\t\n"
      ]
     },
     "execution_count": 135,
     "metadata": {},
     "output_type": "execute_result"
    },
    {
     "data": {
      "text/plain": [
       "# current error = 0.045638631026202\t\n"
      ]
     },
     "execution_count": 135,
     "metadata": {},
     "output_type": "execute_result"
    },
    {
     "data": {
      "text/plain": [
       "# current error = 0.046216697687234\t\n"
      ]
     },
     "execution_count": 135,
     "metadata": {},
     "output_type": "execute_result"
    },
    {
     "data": {
      "text/plain": [
       "# current error = 0.033111375058474\t\n"
      ]
     },
     "execution_count": 135,
     "metadata": {},
     "output_type": "execute_result"
    },
    {
     "data": {
      "text/plain": [
       "# current error = 0.02406026439469\t\n"
      ]
     },
     "execution_count": 135,
     "metadata": {},
     "output_type": "execute_result"
    },
    {
     "data": {
      "text/plain": [
       "# current error = 0.015974571630656\t\n"
      ]
     },
     "execution_count": 135,
     "metadata": {},
     "output_type": "execute_result"
    },
    {
     "data": {
      "text/plain": [
       "# current error = 0.010407997174373\t\n"
      ]
     },
     "execution_count": 135,
     "metadata": {},
     "output_type": "execute_result"
    },
    {
     "data": {
      "text/plain": [
       "# current error = 0.006889260067181\t\n"
      ]
     },
     "execution_count": 135,
     "metadata": {},
     "output_type": "execute_result"
    },
    {
     "data": {
      "text/plain": [
       "# current error = 0.004592433686167\t\n"
      ]
     },
     "execution_count": 135,
     "metadata": {},
     "output_type": "execute_result"
    },
    {
     "data": {
      "text/plain": [
       "# current error = 0.0030330948635671\t\n"
      ]
     },
     "execution_count": 135,
     "metadata": {},
     "output_type": "execute_result"
    },
    {
     "data": {
      "text/plain": [
       "# current error = 0.0021500016518549\t\n"
      ]
     },
     "execution_count": 135,
     "metadata": {},
     "output_type": "execute_result"
    },
    {
     "data": {
      "text/plain": [
       "# current error = 0.0015556020204474\t\n"
      ]
     },
     "execution_count": 135,
     "metadata": {},
     "output_type": "execute_result"
    },
    {
     "data": {
      "text/plain": [
       "# current error = 0.0011975268317278\t\n"
      ]
     },
     "execution_count": 135,
     "metadata": {},
     "output_type": "execute_result"
    },
    {
     "data": {
      "text/plain": [
       "# current error = 0.00095384282478339\t\n"
      ]
     },
     "execution_count": 135,
     "metadata": {},
     "output_type": "execute_result"
    },
    {
     "data": {
      "text/plain": [
       "# current error = 0.00077562918449725\t\n"
      ]
     },
     "execution_count": 135,
     "metadata": {},
     "output_type": "execute_result"
    },
    {
     "data": {
      "text/plain": [
       "# current error = 0.00067060050599439\t\n"
      ]
     },
     "execution_count": 135,
     "metadata": {},
     "output_type": "execute_result"
    },
    {
     "data": {
      "text/plain": [
       "# current error = 0.00057322625218214\t\n"
      ]
     },
     "execution_count": 135,
     "metadata": {},
     "output_type": "execute_result"
    },
    {
     "data": {
      "text/plain": [
       "# current error = 0.00051573938962054\t\n"
      ]
     },
     "execution_count": 135,
     "metadata": {},
     "output_type": "execute_result"
    },
    {
     "data": {
      "text/plain": [
       "# current error = 0.00045582536868078\t\n"
      ]
     },
     "execution_count": 135,
     "metadata": {},
     "output_type": "execute_result"
    },
    {
     "data": {
      "text/plain": [
       "# current error = 0.00042714163125428\t\n"
      ]
     },
     "execution_count": 135,
     "metadata": {},
     "output_type": "execute_result"
    },
    {
     "data": {
      "text/plain": [
       "# current error = 0.00038830030468593\t\n",
       "# StochasticGradient: you have reached the maximum number of iterations\t\n",
       "# training error = 0.00038830030468593\t\n",
       "\n"
      ]
     },
     "execution_count": 135,
     "metadata": {},
     "output_type": "execute_result"
    }
   ],
   "source": [
    "trainer:train(trainset)"
   ]
  },
  {
   "cell_type": "markdown",
   "metadata": {},
   "source": [
    "# Test the network"
   ]
  },
  {
   "cell_type": "code",
   "execution_count": 139,
   "metadata": {
    "collapsed": false
   },
   "outputs": [
    {
     "data": {
      "text/plain": [
       "{\n",
       "  1 : DoubleTensor - size: 1\n",
       "  2 : DoubleTensor - size: 1\n",
       "  3 : DoubleTensor - size: 1\n",
       "  4 : DoubleTensor - size: 1\n",
       "  5 : DoubleTensor - size: 1\n",
       "  6 : DoubleTensor - size: 1\n",
       "  7 : DoubleTensor - size: 1\n",
       "  8 : DoubleTensor - size: 1\n",
       "  9 : DoubleTensor - size: 1\n",
       "  10 : DoubleTensor - size: 1\n",
       "  11 : DoubleTensor - size: 1\n",
       "  12 : DoubleTensor - size: 1\n",
       "  13 : DoubleTensor - size: 1\n",
       "  14 : DoubleTensor - size: 1\n",
       "  15 : DoubleTensor - size: 1\n",
       "  16 : DoubleTensor - size: 1\n",
       "  17 : DoubleTensor - size: 1\n",
       "  18 : DoubleTensor - size: 1\n",
       "  19 : DoubleTensor - size: 1\n",
       "  20 : DoubleTensor - size: 1\n",
       "  21 : DoubleTensor - size: 1\n",
       "  22 : DoubleTensor - size: 1\n",
       "  23 : DoubleTensor - size: 1\n",
       "  24 : DoubleTensor - size: 1\n",
       "  25 : DoubleTensor - size: 1\n",
       "  26 : DoubleTensor - size: 1\n",
       "  27 : DoubleTensor - size: 1\n",
       "  28 : DoubleTensor - size: 1\n",
       "  29 : DoubleTensor - size: 1\n",
       "  30 : DoubleTensor - size: 1\n",
       "  31 : DoubleTensor - size: 1\n",
       "  32 : DoubleTensor - size: 1\n",
       "  33 : DoubleTensor - size: 1\n",
       "  34 : DoubleTensor - size: 1\n",
       "  35 : DoubleTensor - size: 1\n",
       "  36 : DoubleTensor - size: 1\n",
       "  37 : DoubleTensor - size: 1\n",
       "  38 : DoubleTensor - size: 1\n",
       "  39 : DoubleTensor - size: 1\n",
       "  40 : DoubleTensor - size: 1\n",
       "  41 : DoubleTensor - size: 1\n",
       "  42 : DoubleTensor - size: 1\n",
       "  43 : DoubleTensor - size: 1\n",
       "  44 : DoubleTensor - size: 1\n",
       "  45 : DoubleTensor - size: 1\n",
       "  46 : DoubleTensor - size: 1\n",
       "  47 : DoubleTensor - size: 1\n",
       "  48 : DoubleTensor - size: 1\n",
       "  49 : DoubleTensor - size: 1\n",
       "  50 : DoubleTensor - size: 1\n",
       "  51 : DoubleTensor - size: 1\n",
       "  52 : DoubleTensor - size: 1\n"
      ]
     },
     "execution_count": 139,
     "metadata": {},
     "output_type": "execute_result"
    },
    {
     "data": {
      "text/plain": [
       "  53 : DoubleTensor - size: 1\n",
       "  54 : DoubleTensor - size: 1\n",
       "  55 : DoubleTensor - size: 1\n",
       "  56 : DoubleTensor - size: 1\n",
       "  57 : DoubleTensor - size: 1\n",
       "  58 : DoubleTensor - size: 1\n",
       "  59 : DoubleTensor - size: 1\n",
       "  60 : DoubleTensor - size: 1\n",
       "  61 : DoubleTensor - size: 1\n",
       "  62 : DoubleTensor - size: 1\n",
       "  63 : DoubleTensor - size: 1\n",
       "  64 : DoubleTensor - size: 1\n",
       "  65 : DoubleTensor - size: 1\n",
       "  66 : DoubleTensor - size: 1\n",
       "  67 : DoubleTensor - size: 1\n",
       "  68 : DoubleTensor - size: 1\n",
       "  69 : DoubleTensor - size: 1\n",
       "  70 : DoubleTensor - size: 1\n",
       "  71 : DoubleTensor - size: 1\n",
       "  72 : DoubleTensor - size: 1\n",
       "  73 : DoubleTensor - size: 1\n",
       "  74 : DoubleTensor - size: 1\n",
       "  75 : DoubleTensor - size: 1\n",
       "  76 : DoubleTensor - size: 1\n",
       "  77 : DoubleTensor - size: 1\n",
       "  78 : DoubleTensor - size: 1\n",
       "  79 : DoubleTensor - size: 1\n",
       "  80 : DoubleTensor - size: 1\n",
       "  81 : DoubleTensor - size: 1\n",
       "  82 : DoubleTensor - size: 1\n",
       "  83 : DoubleTensor - size: 1\n",
       "  84 : DoubleTensor - size: 1\n",
       "  85 : DoubleTensor - size: 1\n",
       "  86 : DoubleTensor - size: 1\n",
       "  87 : DoubleTensor - size: 1\n",
       "  88 : DoubleTensor - size: 1\n",
       "  89 : DoubleTensor - size: 1\n",
       "  90 : DoubleTensor - size: 1\n",
       "  91 : DoubleTensor - size: 1\n",
       "  92 : DoubleTensor - size: 1\n",
       "  93 : DoubleTensor - size: 1\n",
       "  94 : DoubleTensor - size: 1\n",
       "  95 : DoubleTensor - size: 1\n",
       "  96 : DoubleTensor - size: 1\n",
       "  97 : DoubleTensor - size: 1\n",
       "  98 : DoubleTensor - size: 1\n",
       "  99 : DoubleTensor - size: 1\n",
       "  100 : DoubleTensor - size: 1\n",
       "  101 : DoubleTensor - size: 1\n",
       "  102 : DoubleTensor - size: 1\n",
       "  103 : DoubleTensor - size: 1\n",
       "  104 : DoubleTensor - size: 1\n",
       "  105 : DoubleTensor - size: 1\n",
       "  106 : DoubleTensor - size: 1\n",
       "  107 : DoubleTensor - size: 1\n",
       "  108 : DoubleTensor - size: 1\n",
       "  109 : DoubleTensor - size: 1\n",
       "  110 : DoubleTensor - size: 1\n",
       "  111 : DoubleTensor - size: 1\n",
       "  112 : DoubleTensor - size: 1\n",
       "  113 : DoubleTensor - size: 1\n",
       "  114 : DoubleTensor - size: 1\n",
       "  115 : DoubleTensor - size: 1\n",
       "  116 : DoubleTensor - size: 1\n",
       "  117 : DoubleTensor - size: 1\n",
       "  118 : DoubleTensor - size: 1\n",
       "  119 : DoubleTensor - size: 1\n",
       "  120 : DoubleTensor - size: 1\n",
       "  121 : DoubleTensor - size: 1\n",
       "  122 : DoubleTensor - size: 1\n",
       "  123 : DoubleTensor - size: 1\n",
       "  124 : DoubleTensor - size: 1\n",
       "  125 : DoubleTensor - size: 1\n",
       "  126 : DoubleTensor - size: 1\n",
       "  127 : DoubleTensor - size: 1\n",
       "  128 : DoubleTensor - size: 1\n",
       "  129 : DoubleTensor - size: 1\n",
       "  130 : DoubleTensor - size: 1\n",
       "  131 : DoubleTensor - size: 1\n",
       "  132 : DoubleTensor - size: 1\n",
       "  133 : DoubleTensor - size: 1\n",
       "  134 : DoubleTensor - size: 1\n",
       "  135 : DoubleTensor - size: 1\n",
       "  136 : DoubleTensor - size: 1\n",
       "  137 : DoubleTensor - size: 1\n",
       "  138 : DoubleTensor - size: 1\n",
       "  139 : DoubleTensor - size: 1\n",
       "  140 : DoubleTensor - size: 1\n",
       "  141 : DoubleTensor - size: 1\n",
       "  142 : DoubleTensor - size: 1\n",
       "  143 : DoubleTensor - size: 1\n",
       "  144 : DoubleTensor - size: 1\n",
       "  145 : DoubleTensor - size: 1\n",
       "  146 : DoubleTensor - size: 1\n",
       "  147 : DoubleTensor - size: 1\n",
       "  148 : DoubleTensor - size: 1\n",
       "  149 : DoubleTensor - size: 1\n",
       "  150 : DoubleTensor - size: 1\n",
       "  151 : DoubleTensor - size: 1\n",
       "  152 : DoubleTensor - size: 1\n",
       "  153 : DoubleTensor - size: 1\n",
       "  154 : DoubleTensor - size: 1\n",
       "  155 : DoubleTensor - size: 1\n",
       "  156 : DoubleTensor - size: 1\n",
       "  157 : DoubleTensor - size: 1\n",
       "  158 : DoubleTensor - size: 1\n",
       "  159 : DoubleTensor - size: 1\n",
       "  160 : DoubleTensor - size: 1\n",
       "  161 : DoubleTensor - size: 1\n",
       "  162 : DoubleTensor - size: 1\n",
       "  163 : DoubleTensor - size: 1\n"
      ]
     },
     "execution_count": 139,
     "metadata": {},
     "output_type": "execute_result"
    },
    {
     "data": {
      "text/plain": [
       "  164 : DoubleTensor - size: 1\n",
       "  165 : DoubleTensor - size: 1\n",
       "  166 : DoubleTensor - size: 1\n",
       "  167 : DoubleTensor - size: 1\n",
       "  168 : DoubleTensor - size: 1\n",
       "  169 : DoubleTensor - size: 1\n",
       "  170 : DoubleTensor - size: 1\n",
       "  171 : DoubleTensor - size: 1\n",
       "  172 : DoubleTensor - size: 1\n",
       "  173 : DoubleTensor - size: 1\n",
       "  174 : DoubleTensor - size: 1\n",
       "  175 : DoubleTensor - size: 1\n",
       "  176 : DoubleTensor - size: 1\n",
       "  177 : DoubleTensor - size: 1\n",
       "  178 : DoubleTensor - size: 1\n",
       "  179 : DoubleTensor - size: 1\n",
       "  180 : DoubleTensor - size: 1\n",
       "  181 : DoubleTensor - size: 1\n",
       "  182 : DoubleTensor - size: 1\n",
       "  183 : DoubleTensor - size: 1\n",
       "  184 : DoubleTensor - size: 1\n",
       "}\n"
      ]
     },
     "execution_count": 139,
     "metadata": {},
     "output_type": "execute_result"
    }
   ],
   "source": [
    "labels = {}\n",
    "for k = 1, testset.label:size()[1] do\n",
    "    target = torch.Tensor(1)\n",
    "    target[1] = testset.label[k]\n",
    "    labels[k] = target\n",
    "end\n",
    "testset.label = labels\n",
    "print(testset.label)"
   ]
  },
  {
   "cell_type": "code",
   "execution_count": 140,
   "metadata": {
    "collapsed": true
   },
   "outputs": [],
   "source": [
    "for i=1,2 do -- over each channel\n",
    "    testset.data[{ {}, {i}, {}, {}  }]:add(-mean[i]) -- mean subtraction    \n",
    "    testset.data[{ {}, {i}, {}, {}  }]:div(stdv[i]) -- std scaling\n",
    "end"
   ]
  },
  {
   "cell_type": "code",
   "execution_count": 141,
   "metadata": {
    "collapsed": false
   },
   "outputs": [
    {
     "data": {
      "text/plain": [
       " 1\n",
       "[torch.DoubleTensor of size 1]\n",
       "\n"
      ]
     },
     "execution_count": 141,
     "metadata": {},
     "output_type": "execute_result"
    }
   ],
   "source": [
    "print(testset.label[100])"
   ]
  },
  {
   "cell_type": "code",
   "execution_count": 143,
   "metadata": {
    "collapsed": false
   },
   "outputs": [
    {
     "data": {
      "text/plain": [
       " 1.2183\n",
       "[torch.DoubleTensor of size 1]\n",
       "\n"
      ]
     },
     "execution_count": 143,
     "metadata": {},
     "output_type": "execute_result"
    }
   ],
   "source": [
    "predicted = net:forward(testset.data[100])\n",
    "print(predicted)"
   ]
  },
  {
   "cell_type": "code",
   "execution_count": 152,
   "metadata": {
    "collapsed": false
   },
   "outputs": [],
   "source": [
    "ntests = #testset.label"
   ]
  },
  {
   "cell_type": "code",
   "execution_count": 158,
   "metadata": {
    "collapsed": false
   },
   "outputs": [
    {
     "data": {
      "text/plain": [
       "1\t2.2959456688024\t\n",
       "1\t1.6875606562971\t\n"
      ]
     },
     "execution_count": 158,
     "metadata": {},
     "output_type": "execute_result"
    },
    {
     "data": {
      "text/plain": [
       "3\t0.98524735232744\t\n",
       "1\t1.6427008517242\t\n"
      ]
     },
     "execution_count": 158,
     "metadata": {},
     "output_type": "execute_result"
    },
    {
     "data": {
      "text/plain": [
       "3\t0.74869843078839\t\n",
       "1\t0.96740305116441\t\n",
       "1\t0.97322521121854\t\n"
      ]
     },
     "execution_count": 158,
     "metadata": {},
     "output_type": "execute_result"
    },
    {
     "data": {
      "text/plain": [
       "1\t1.0986229742075\t\n",
       "1\t1.4611960972675\t\n",
       "2\t1.549264916136\t\n"
      ]
     },
     "execution_count": 158,
     "metadata": {},
     "output_type": "execute_result"
    },
    {
     "data": {
      "text/plain": [
       "1\t0.93158451037066\t\n",
       "2\t1.7888934970722\t\n"
      ]
     },
     "execution_count": 158,
     "metadata": {},
     "output_type": "execute_result"
    },
    {
     "data": {
      "text/plain": [
       "1\t1.4932073318165\t\n",
       "2\t1.3155151198998\t\n"
      ]
     },
     "execution_count": 158,
     "metadata": {},
     "output_type": "execute_result"
    },
    {
     "data": {
      "text/plain": [
       "4\t1.7559626507477\t\n",
       "2\t2.0029839312386\t\n"
      ]
     },
     "execution_count": 158,
     "metadata": {},
     "output_type": "execute_result"
    },
    {
     "data": {
      "text/plain": [
       "5\t2.0677681644634\t\n",
       "1\t2.2322073352785\t\n",
       "1\t2.1542340679334\t\n"
      ]
     },
     "execution_count": 158,
     "metadata": {},
     "output_type": "execute_result"
    },
    {
     "data": {
      "text/plain": [
       "2\t0.58641046139028\t\n",
       "3\t1.0119842898073\t\n",
       "1\t1.2110730476526\t\n"
      ]
     },
     "execution_count": 158,
     "metadata": {},
     "output_type": "execute_result"
    },
    {
     "data": {
      "text/plain": [
       "2\t1.9519052309594\t\n",
       "2\t1.5454452242692\t\n"
      ]
     },
     "execution_count": 158,
     "metadata": {},
     "output_type": "execute_result"
    },
    {
     "data": {
      "text/plain": [
       "1\t1.1087244042622\t\n",
       "2\t1.1473785399018\t\n"
      ]
     },
     "execution_count": 158,
     "metadata": {},
     "output_type": "execute_result"
    },
    {
     "data": {
      "text/plain": [
       "1\t1.1597160158358\t\n",
       "1\t1.4314236259858\t\n",
       "4\t2.4901055660827\t\n"
      ]
     },
     "execution_count": 158,
     "metadata": {},
     "output_type": "execute_result"
    },
    {
     "data": {
      "text/plain": [
       "1\t2.0141243102144\t\n",
       "1\t1.7780869952672\t\n",
       "1\t1.363536771924\t\n"
      ]
     },
     "execution_count": 158,
     "metadata": {},
     "output_type": "execute_result"
    },
    {
     "data": {
      "text/plain": [
       "4\t2.0766891260173\t\n",
       "3\t1.7917231108846\t\n"
      ]
     },
     "execution_count": 158,
     "metadata": {},
     "output_type": "execute_result"
    },
    {
     "data": {
      "text/plain": [
       "1\t1.3760179571794\t\n",
       "1\t1.0127349226141\t\n",
       "1\t1.7526442688239\t\n",
       "1\t1.2367716495694\t\n"
      ]
     },
     "execution_count": 158,
     "metadata": {},
     "output_type": "execute_result"
    },
    {
     "data": {
      "text/plain": [
       "2\t2.0534515330552\t\n",
       "1\t1.4779550989813\t\n"
      ]
     },
     "execution_count": 158,
     "metadata": {},
     "output_type": "execute_result"
    },
    {
     "data": {
      "text/plain": [
       "2\t1.8513616498246\t\n",
       "1\t1.730419094584\t\n",
       "1\t1.7092277144164\t\n"
      ]
     },
     "execution_count": 158,
     "metadata": {},
     "output_type": "execute_result"
    },
    {
     "data": {
      "text/plain": [
       "2\t0.58078425315553\t\n",
       "1\t0.92405989913758\t\n"
      ]
     },
     "execution_count": 158,
     "metadata": {},
     "output_type": "execute_result"
    },
    {
     "data": {
      "text/plain": [
       "1\t0.90578477725652\t\n",
       "1\t0.84837159601657\t\n"
      ]
     },
     "execution_count": 158,
     "metadata": {},
     "output_type": "execute_result"
    },
    {
     "data": {
      "text/plain": [
       "1\t0.75623108099233\t\n",
       "1\t0.88583708874011\t\n"
      ]
     },
     "execution_count": 158,
     "metadata": {},
     "output_type": "execute_result"
    },
    {
     "data": {
      "text/plain": [
       "1\t1.5576480380015\t\n",
       "1\t1.2766598650908\t\n"
      ]
     },
     "execution_count": 158,
     "metadata": {},
     "output_type": "execute_result"
    },
    {
     "data": {
      "text/plain": [
       "2\t1.752237372275\t\n",
       "1\t0.95204743976388\t\n"
      ]
     },
     "execution_count": 158,
     "metadata": {},
     "output_type": "execute_result"
    },
    {
     "data": {
      "text/plain": [
       "4\t1.1214234002119\t\n",
       "1\t1.5478370226514\t\n"
      ]
     },
     "execution_count": 158,
     "metadata": {},
     "output_type": "execute_result"
    },
    {
     "data": {
      "text/plain": [
       "2\t1.8805325427455\t\n"
      ]
     },
     "execution_count": 158,
     "metadata": {},
     "output_type": "execute_result"
    },
    {
     "data": {
      "text/plain": [
       "1\t0.7401545654322\t\n",
       "1\t0.98828691028362\t\n"
      ]
     },
     "execution_count": 158,
     "metadata": {},
     "output_type": "execute_result"
    },
    {
     "data": {
      "text/plain": [
       "2\t1.1609243369747\t\n",
       "1\t1.7503296949678\t\n",
       "2\t1.034782879212\t\n"
      ]
     },
     "execution_count": 158,
     "metadata": {},
     "output_type": "execute_result"
    },
    {
     "data": {
      "text/plain": [
       "1\t1.0514882901706\t\n",
       "2\t2.115879702778\t\n",
       "2\t1.2477192805027\t\n"
      ]
     },
     "execution_count": 158,
     "metadata": {},
     "output_type": "execute_result"
    },
    {
     "data": {
      "text/plain": [
       "2\t2.3412245224465\t\n",
       "3\t1.0943065041265\t\n",
       "1\t1.1847141380647\t\n"
      ]
     },
     "execution_count": 158,
     "metadata": {},
     "output_type": "execute_result"
    },
    {
     "data": {
      "text/plain": [
       "1\t0.49657217420349\t\n",
       "2\t1.2222149911645\t\n"
      ]
     },
     "execution_count": 158,
     "metadata": {},
     "output_type": "execute_result"
    },
    {
     "data": {
      "text/plain": [
       "2\t1.9204636951528\t\n",
       "1\t1.2306819429338\t\n",
       "1\t3.0952619290294\t\n"
      ]
     },
     "execution_count": 158,
     "metadata": {},
     "output_type": "execute_result"
    },
    {
     "data": {
      "text/plain": [
       "1\t2.241227936016\t\n",
       "1\t1.1118238327755\t\n",
       "1\t0.89468378931423\t\n"
      ]
     },
     "execution_count": 158,
     "metadata": {},
     "output_type": "execute_result"
    },
    {
     "data": {
      "text/plain": [
       "2\t0.67937362525914\t\n",
       "1\t2.1877748302801\t\n"
      ]
     },
     "execution_count": 158,
     "metadata": {},
     "output_type": "execute_result"
    },
    {
     "data": {
      "text/plain": [
       "1\t2.5535025996233\t\n",
       "1\t2.5299725696603\t\n",
       "1\t1.350944595636\t\n"
      ]
     },
     "execution_count": 158,
     "metadata": {},
     "output_type": "execute_result"
    },
    {
     "data": {
      "text/plain": [
       "4\t2.9197570315959\t\n",
       "4\t0.60315944543081\t\n",
       "2\t1.5054268537233\t\n"
      ]
     },
     "execution_count": 158,
     "metadata": {},
     "output_type": "execute_result"
    },
    {
     "data": {
      "text/plain": [
       "1\t1.1649400544989\t\n",
       "2\t1.5010899491288\t\n",
       "1\t1.1946664219674\t\n"
      ]
     },
     "execution_count": 158,
     "metadata": {},
     "output_type": "execute_result"
    },
    {
     "data": {
      "text/plain": [
       "2\t0.88615286458953\t\n",
       "1\t1.0331048620425\t\n",
       "2\t1.1500427752801\t"
      ]
     },
     "execution_count": 158,
     "metadata": {},
     "output_type": "execute_result"
    },
    {
     "data": {
      "text/plain": [
       "\n",
       "2\t0.76033959394792\t\n",
       "2\t2.2341810424197\t\n"
      ]
     },
     "execution_count": 158,
     "metadata": {},
     "output_type": "execute_result"
    },
    {
     "data": {
      "text/plain": [
       "1\t1.3902098463048\t\n",
       "1\t1.6614531810913\t\n",
       "2\t1.6268390868791\t\n"
      ]
     },
     "execution_count": 158,
     "metadata": {},
     "output_type": "execute_result"
    },
    {
     "data": {
      "text/plain": [
       "2\t0.65885406526687\t\n",
       "2\t1.4034423140313\t\n"
      ]
     },
     "execution_count": 158,
     "metadata": {},
     "output_type": "execute_result"
    },
    {
     "data": {
      "text/plain": [
       "3\t1.2922515243432\t\n",
       "1\t1.1955281797967\t\n",
       "1\t1.1323241956643\t\n"
      ]
     },
     "execution_count": 158,
     "metadata": {},
     "output_type": "execute_result"
    },
    {
     "data": {
      "text/plain": [
       "1\t1.218298594211\t\n",
       "1\t1.0373278349131\t\n",
       "1\t0.59508208930452\t\n",
       "2\t0.98669272737724\t\n",
       "1\t1.4231738983424\t\n"
      ]
     },
     "execution_count": 158,
     "metadata": {},
     "output_type": "execute_result"
    },
    {
     "data": {
      "text/plain": [
       "1\t1.9333908074682\t\n",
       "3\t1.4784565168491\t\n",
       "1\t0.86525215002424\t\n",
       "1\t1.036004963151\t\n"
      ]
     },
     "execution_count": 158,
     "metadata": {},
     "output_type": "execute_result"
    },
    {
     "data": {
      "text/plain": [
       "1\t1.3090265965399\t\n",
       "2\t1.050353288513\t\n",
       "3\t0.86582308547623\t\n",
       "1\t1.1349497156675\t\n",
       "1\t1.3693799598797\t\n",
       "1\t1.0430936754844\t\n",
       "1\t0.86401183960617\t\n",
       "1\t1.0152533855129\t\n",
       "4\t0.89930746665698\t\n",
       "1\t1.8626447163356\t\n",
       "1\t2.0917816599625\t\n",
       "2\t1.8869999067626\t\n"
      ]
     },
     "execution_count": 158,
     "metadata": {},
     "output_type": "execute_result"
    },
    {
     "data": {
      "text/plain": [
       "1\t1.2525163874257\t\n",
       "1\t1.0178942251394\t\n",
       "2\t0.94018250382715\t\n",
       "4\t1.776503953318\t\n"
      ]
     },
     "execution_count": 158,
     "metadata": {},
     "output_type": "execute_result"
    },
    {
     "data": {
      "text/plain": [
       "1\t1.8436455247784\t\n",
       "1\t1.2030815105244\t\n",
       "1\t1.3619231152774\t\n",
       "2\t1.8284167492418\t\n"
      ]
     },
     "execution_count": 158,
     "metadata": {},
     "output_type": "execute_result"
    },
    {
     "data": {
      "text/plain": [
       "1\t1.6209574196911\t\n",
       "1\t0.91266162873726\t\n",
       "2\t0.91771325347438\t\n",
       "1\t1.3777407676718\t\n",
       "1\t0.88043640810585\t\n",
       "1\t"
      ]
     },
     "execution_count": 158,
     "metadata": {},
     "output_type": "execute_result"
    },
    {
     "data": {
      "text/plain": [
       "1.3652772987337\t\n",
       "1\t1.5675647385755\t\n",
       "1\t1.8792149148112\t\n"
      ]
     },
     "execution_count": 158,
     "metadata": {},
     "output_type": "execute_result"
    },
    {
     "data": {
      "text/plain": [
       "1\t1.8721395132383\t\n",
       "2\t2.728597262397\t\n"
      ]
     },
     "execution_count": 158,
     "metadata": {},
     "output_type": "execute_result"
    },
    {
     "data": {
      "text/plain": [
       "1\t1.3174819114083\t\n",
       "1\t1.7985204017186\t\n",
       "1\t1.7975338048974\t\n"
      ]
     },
     "execution_count": 158,
     "metadata": {},
     "output_type": "execute_result"
    },
    {
     "data": {
      "text/plain": [
       "1\t1.3470517769196\t\n",
       "4\t2.7497448800844\t\n"
      ]
     },
     "execution_count": 158,
     "metadata": {},
     "output_type": "execute_result"
    },
    {
     "data": {
      "text/plain": [
       "1\t1.8561897982497\t\n",
       "3\t1.106544008048\t\n"
      ]
     },
     "execution_count": 158,
     "metadata": {},
     "output_type": "execute_result"
    },
    {
     "data": {
      "text/plain": [
       "2\t1.8896936081726\t\n",
       "2\t2.9615306908606\t\n",
       "1\t1.5821501821341\t\n"
      ]
     },
     "execution_count": 158,
     "metadata": {},
     "output_type": "execute_result"
    },
    {
     "data": {
      "text/plain": [
       "1\t0.92692416937508\t\n",
       "1\t1.4174802105358\t\n",
       "1\t1.9209525701261\t\n"
      ]
     },
     "execution_count": 158,
     "metadata": {},
     "output_type": "execute_result"
    },
    {
     "data": {
      "text/plain": [
       "1\t1.20352423173\t\n",
       "1\t0.92334627594029\t\n",
       "2\t1.373851436853\t\n"
      ]
     },
     "execution_count": 158,
     "metadata": {},
     "output_type": "execute_result"
    },
    {
     "data": {
      "text/plain": [
       "1\t1.4715225453028\t\n",
       "1\t0.79036494792005\t\n",
       "2\t1.312976841203\t\n"
      ]
     },
     "execution_count": 158,
     "metadata": {},
     "output_type": "execute_result"
    },
    {
     "data": {
      "text/plain": [
       "1\t1.2756129721511\t\n",
       "2\t1.2772722652311\t\n",
       "1\t1.8330380903224\t\n"
      ]
     },
     "execution_count": 158,
     "metadata": {},
     "output_type": "execute_result"
    },
    {
     "data": {
      "text/plain": [
       "2\t2.0555720636458\t\n",
       "1\t1.2592803363899\t\n",
       "1\t1.522389342548\t\n"
      ]
     },
     "execution_count": 158,
     "metadata": {},
     "output_type": "execute_result"
    },
    {
     "data": {
      "text/plain": [
       "1\t1.4784986850271\t\n",
       "1\t1.267900668509\t\n",
       "1\t0.98753785740412\t\n"
      ]
     },
     "execution_count": 158,
     "metadata": {},
     "output_type": "execute_result"
    },
    {
     "data": {
      "text/plain": [
       "1\t0.996637611841\t\n",
       "1\t1.3546323987737\t\n",
       "1\t0.77515672901571\t\n",
       "1\t1.0507096494193\t\n"
      ]
     },
     "execution_count": 158,
     "metadata": {},
     "output_type": "execute_result"
    },
    {
     "data": {
      "text/plain": [
       "1\t1.3041674432199\t\n",
       "1\t1.051686367378\t\n",
       "1\t1.2694658394849\t\n"
      ]
     },
     "execution_count": 158,
     "metadata": {},
     "output_type": "execute_result"
    },
    {
     "data": {
      "text/plain": [
       "1\t1.1716541248122\t\n",
       "1\t1.1310740868167\t\n"
      ]
     },
     "execution_count": 158,
     "metadata": {},
     "output_type": "execute_result"
    },
    {
     "data": {
      "text/plain": [
       "1\t1.0666274124274\t\n",
       "2\t0.98017866309715\t\n"
      ]
     },
     "execution_count": 158,
     "metadata": {},
     "output_type": "execute_result"
    },
    {
     "data": {
      "text/plain": [
       "1\t1.1183558116203\t\n",
       "1\t1.4618243906646\t\n"
      ]
     },
     "execution_count": 158,
     "metadata": {},
     "output_type": "execute_result"
    },
    {
     "data": {
      "text/plain": [
       "7\t1.6186529042903\t\n",
       "1\t1.1310740868167\t\n",
       "1\t1.2246823028825\t\n"
      ]
     },
     "execution_count": 158,
     "metadata": {},
     "output_type": "execute_result"
    },
    {
     "data": {
      "text/plain": [
       "1\t1.3271221583898\t\n",
       "1\t1.3788669797682\t\n",
       "0.97881918616224\t\n"
      ]
     },
     "execution_count": 158,
     "metadata": {},
     "output_type": "execute_result"
    }
   ],
   "source": [
    "-- how many in total correct over the test set?\n",
    "errors = 0\n",
    "for i=1, ntests do\n",
    "    local groundtruth = testset.label[i]\n",
    "    local prediction = net:forward(testset.data[i])\n",
    "    errors = errors + (groundtruth[1] - prediction[1]) * (groundtruth[1] - prediction[1])\n",
    "    print(groundtruth[1], prediction[1])\n",
    "end\n",
    "print(errors / ntests)"
   ]
  }
 ],
 "metadata": {
  "kernelspec": {
   "display_name": "iTorch",
   "language": "lua",
   "name": "itorch"
  },
  "language_info": {
   "name": "lua",
   "version": "5.1"
  }
 },
 "nbformat": 4,
 "nbformat_minor": 0
}
